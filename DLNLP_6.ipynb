{
  "nbformat": 4,
  "nbformat_minor": 0,
  "metadata": {
    "colab": {
      "private_outputs": true,
      "provenance": [],
      "authorship_tag": "ABX9TyNJsexg22FNozVhEWXrJp23",
      "include_colab_link": true
    },
    "kernelspec": {
      "name": "python3",
      "display_name": "Python 3"
    },
    "language_info": {
      "name": "python"
    }
  },
  "cells": [
    {
      "cell_type": "markdown",
      "metadata": {
        "id": "view-in-github",
        "colab_type": "text"
      },
      "source": [
        "<a href=\"https://colab.research.google.com/github/Sankar27104/DLNLP/blob/main/DLNLP_6.ipynb\" target=\"_parent\"><img src=\"https://colab.research.google.com/assets/colab-badge.svg\" alt=\"Open In Colab\"/></a>"
      ]
    },
    {
      "cell_type": "markdown",
      "source": [
        "#Use the Keras deep learning library and write a code for encoding with(one_hot)."
      ],
      "metadata": {
        "id": "RU9bsG_JdXsl"
      }
    },
    {
      "cell_type": "markdown",
      "source": [
        "##ONE_HOT :-\n",
        "###One-hot encoding is a technique used in deep learning and natural language processing to represent categorical data, such as words or labels, as binary vectors. In one-hot encoding, each category is represented by a vector where all elements are set to zero except for the element corresponding to the category's index, which is set to one. This creates a unique binary representation for each category, allowing them to be easily fed into machine learning algorithms.\n",
        "###For example, consider a simple vocabulary of three words: \"apple\", and \"banana”.\n",
        "###To one-hot encode these words:\n",
        "###\"apple\" could be represented as [1, 0, 0]\n",
        "###\"banana\" could be represented as [0, 1, 0]"
      ],
      "metadata": {
        "id": "sqNdSnyDdio9"
      }
    },
    {
      "cell_type": "code",
      "source": [
        "from keras.utils import to_categorical\n",
        "color_labels = [0, 1, 2, 1, 0, 2]\n",
        "one_hot_encoded = to_categorical(color_labels)\n",
        "print(one_hot_encoded)"
      ],
      "metadata": {
        "id": "q286QB8Wd5mP"
      },
      "execution_count": null,
      "outputs": []
    }
  ]
}