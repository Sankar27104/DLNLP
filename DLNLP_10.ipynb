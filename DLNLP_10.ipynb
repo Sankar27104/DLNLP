{
  "nbformat": 4,
  "nbformat_minor": 0,
  "metadata": {
    "colab": {
      "private_outputs": true,
      "provenance": [],
      "authorship_tag": "ABX9TyP8+86hv7Y4PTk7QJtqui34",
      "include_colab_link": true
    },
    "kernelspec": {
      "name": "python3",
      "display_name": "Python 3"
    },
    "language_info": {
      "name": "python"
    }
  },
  "cells": [
    {
      "cell_type": "markdown",
      "metadata": {
        "id": "view-in-github",
        "colab_type": "text"
      },
      "source": [
        "<a href=\"https://colab.research.google.com/github/Sankar27104/DLNLP/blob/main/DLNLP_10.ipynb\" target=\"_parent\"><img src=\"https://colab.research.google.com/assets/colab-badge.svg\" alt=\"Open In Colab\"/></a>"
      ]
    },
    {
      "cell_type": "markdown",
      "source": [
        "#Perform an experiment using Gensim python library for Word2VecEmbedding."
      ],
      "metadata": {
        "id": "HmNaZ5VR8sA1"
      }
    },
    {
      "cell_type": "code",
      "execution_count": null,
      "metadata": {
        "id": "UoKaDN048iA4"
      },
      "outputs": [],
      "source": [
        "!pip install gensim\n",
        "!pip install nltk"
      ]
    },
    {
      "cell_type": "code",
      "source": [
        "import nltk\n",
        "nltk.download('punkt')\n",
        "from gensim.models import Word2Vec\n",
        "from nltk.tokenize import word_tokenize\n",
        "x= ['I love my dog','I love my cat', 'You love my dog!']\n",
        "t = [word_tokenize(i.lower()) for i in x]\n",
        "model = Word2Vec(t, vector_size=100, window=5, min_count=1, workers=4)\n",
        "v = model.wv['you']\n",
        "#print(v)\n",
        "y = model.wv.most_similar('love')\n",
        "for i in y:\n",
        "  print(i)"
      ],
      "metadata": {
        "id": "kUwB20R69Dbc"
      },
      "execution_count": null,
      "outputs": []
    }
  ]
}