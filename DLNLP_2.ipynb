{
  "nbformat": 4,
  "nbformat_minor": 0,
  "metadata": {
    "colab": {
      "private_outputs": true,
      "provenance": [],
      "authorship_tag": "ABX9TyPAZPHBC82fKb0cwHSHF5jL",
      "include_colab_link": true
    },
    "kernelspec": {
      "name": "python3",
      "display_name": "Python 3"
    },
    "language_info": {
      "name": "python"
    }
  },
  "cells": [
    {
      "cell_type": "markdown",
      "metadata": {
        "id": "view-in-github",
        "colab_type": "text"
      },
      "source": [
        "<a href=\"https://colab.research.google.com/github/Sankar27104/DLNLP/blob/main/DLNLP_2.ipynb\" target=\"_parent\"><img src=\"https://colab.research.google.com/assets/colab-badge.svg\" alt=\"Open In Colab\"/></a>"
      ]
    },
    {
      "cell_type": "markdown",
      "source": [
        "#Implementation to Convert the text to word count vectors with ScikitLearn (CountVectorizer)."
      ],
      "metadata": {
        "id": "8OMsAqs2X9N6"
      }
    },
    {
      "cell_type": "code",
      "source": [
        "from sklearn.feature_extraction.text import CountVectorizer\n",
        "corpus = [\"Sometimes life can get confusing and hard\",\n",
        " \"In such times it can be useful to turn to the wisdom of poetry.\"]\n",
        "vectorizer = CountVectorizer()\n",
        "vectorizer.fit(corpus)\n",
        "print(\"Vocabulary:\" , vectorizer.vocabulary_)\n",
        "vector = vectorizer.transform(corpus)\n",
        "print(\"Encoded corpus is:\")\n",
        "print(vector.toarray())"
      ],
      "metadata": {
        "id": "qK831sEZYOqc"
      },
      "execution_count": null,
      "outputs": []
    }
  ]
}