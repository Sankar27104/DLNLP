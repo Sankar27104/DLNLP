{
  "nbformat": 4,
  "nbformat_minor": 0,
  "metadata": {
    "colab": {
      "private_outputs": true,
      "provenance": [],
      "gpuType": "T4",
      "authorship_tag": "ABX9TyOwR3uSFLdQWecZwqA732ue",
      "include_colab_link": true
    },
    "kernelspec": {
      "name": "python3",
      "display_name": "Python 3"
    },
    "language_info": {
      "name": "python"
    },
    "accelerator": "GPU"
  },
  "cells": [
    {
      "cell_type": "markdown",
      "metadata": {
        "id": "view-in-github",
        "colab_type": "text"
      },
      "source": [
        "<a href=\"https://colab.research.google.com/github/Sankar27104/DLNLP/blob/main/DLNLP_9.ipynb\" target=\"_parent\"><img src=\"https://colab.research.google.com/assets/colab-badge.svg\" alt=\"Open In Colab\"/></a>"
      ]
    },
    {
      "cell_type": "markdown",
      "source": [
        "#Perform an experiment to do sentimental analysis on any of the dataset (like twitter tweets, movie review etc.)."
      ],
      "metadata": {
        "id": "pL6tGvlykRSc"
      }
    },
    {
      "cell_type": "markdown",
      "source": [
        "##Sentiment analysis:\n",
        "### Sentiment analysis is process of using NLP to determine the emotional tone (or) opinion express in a piece of text. It classifies text into categories such as positive negative neurons sntiment, this analysis help in understanding the over as mood (or) sentiment of user reviews."
      ],
      "metadata": {
        "id": "uaUY7D3KkZSS"
      }
    },
    {
      "cell_type": "markdown",
      "source": [
        "##IMPORT LIBRARIES"
      ],
      "metadata": {
        "id": "FDxEkrbIlWXE"
      }
    },
    {
      "cell_type": "code",
      "source": [
        "!pip install nltk\n",
        "import nltk\n",
        "nltk.download('punkt')\n",
        "nltk.download('stopwords')\n",
        "import pandas as pd"
      ],
      "metadata": {
        "id": "RDkP9NnKlVfu"
      },
      "execution_count": null,
      "outputs": []
    },
    {
      "cell_type": "code",
      "source": [
        "from sklearn.feature_extraction.text import CountVectorizer\n",
        "from nltk.tokenize import word_tokenize\n",
        "from nltk.corpus import stopwords\n",
        "import string\n",
        "df=pd.read_csv('/content/imdb_kaggle.csv')"
      ],
      "metadata": {
        "id": "lwdqjKFWmYU1"
      },
      "execution_count": null,
      "outputs": []
    },
    {
      "cell_type": "code",
      "source": [
        "import numpy as np\n",
        "import pandas as pd\n",
        "from tensorflow import keras\n",
        "from tensorflow.keras import layers\n",
        "\n",
        "(train_data, train_labels), (_, _) = keras.datasets.imdb.load_data(num_words=10000)\n",
        "max_len = 500\n",
        "train_data_padded = keras.preprocessing.sequence.pad_sequences(train_data, maxlen=max_len)\n",
        "\n",
        "model = keras.Sequential([\n",
        "    layers.Embedding(10000, 16, input_length=max_len),\n",
        "    layers.GlobalAveragePooling1D(),\n",
        "    layers.Dense(1, activation='sigmoid')\n",
        "])\n",
        "model.compile(optimizer='adam', loss='binary_crossentropy', metrics=['accuracy'])\n",
        "model.fit(train_data_padded, train_labels, epochs=5, verbose=1)\n",
        "word_index = keras.datasets.imdb.get_word_index()\n",
        "\n",
        "def predict_sentiment(reviews):\n",
        "    encoded_reviews = [[word_index.get(word, 0) + 3\n",
        "                        for word in review.split()]\n",
        "                       for review in reviews]\n",
        "    encoded_reviews = keras.preprocessing.sequence.pad_sequences(\n",
        "        encoded_reviews,\n",
        "        maxlen=max_len\n",
        "    )\n",
        "    predictions = model.predict(encoded_reviews)\n",
        "    sentiment_scores = predictions.flatten()\n",
        "    sentiment_labels = ['positive' if score > 0.5 else 'negative' for score in sentiment_scores]\n",
        "    return sentiment_scores, sentiment_labels\n",
        "\n",
        "test_reviews = [\n",
        "    \"I loved this movie!\",\n",
        "    \"This film was terrible.\",\n",
        "    \"What a great experience!\",\n",
        "    \"I did not like it.\"\n",
        "]\n",
        "sentiment_scores, sentiment_labels = predict_sentiment(test_reviews)\n",
        "results_df = pd.DataFrame({\n",
        "    'Review': test_reviews,\n",
        "    'Sentiment Score': sentiment_scores,\n",
        "    'Sentiment Label': sentiment_labels\n",
        "})\n",
        "print(results_df)"
      ],
      "metadata": {
        "id": "IsD-r-ZZow9W"
      },
      "execution_count": null,
      "outputs": []
    }
  ]
}