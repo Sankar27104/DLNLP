{
  "nbformat": 4,
  "nbformat_minor": 0,
  "metadata": {
    "colab": {
      "private_outputs": true,
      "provenance": [],
      "authorship_tag": "ABX9TyObm6EjIGas9IsF6BuwnARE",
      "include_colab_link": true
    },
    "kernelspec": {
      "name": "python3",
      "display_name": "Python 3"
    },
    "language_info": {
      "name": "python"
    }
  },
  "cells": [
    {
      "cell_type": "markdown",
      "metadata": {
        "id": "view-in-github",
        "colab_type": "text"
      },
      "source": [
        "<a href=\"https://colab.research.google.com/github/Sankar27104/DLNLP/blob/main/DLNLP_4.ipynb\" target=\"_parent\"><img src=\"https://colab.research.google.com/assets/colab-badge.svg\" alt=\"Open In Colab\"/></a>"
      ]
    },
    {
      "cell_type": "markdown",
      "source": [
        "#Implementation to Convert the text to unique integers with ScikitLearn(Hashing Vectorizer)."
      ],
      "metadata": {
        "id": "1mO0P0L6aSz5"
      }
    },
    {
      "cell_type": "markdown",
      "source": [
        "## HASHING VECTORIZER\n",
        "### Hashing vectorizer is a vectorizer which uses the hashing trick to find the token string name to feature integer index mapping. Conversion of text documents into matrix is done by this vectorizer where it turns the collection of documents into a sparse matrix which are holding the token occurence counts."
      ],
      "metadata": {
        "id": "wNvrmqFJacFz"
      }
    },
    {
      "cell_type": "code",
      "source": [
        "from sklearn.feature_extraction.text import HashingVectorizer\n",
        "corpus = [\"Sometimes life can get confusing and hard\",\n",
        " \"In such times it can be useful to turn to the wisdom of poetry.\"]\n",
        "vectorizer = HashingVectorizer(n_features = 2**5)\n",
        "vector = vectorizer.fit_transform(corpus)\n",
        "print(vector.shape)"
      ],
      "metadata": {
        "id": "JcFWz7uualVP"
      },
      "execution_count": null,
      "outputs": []
    }
  ]
}