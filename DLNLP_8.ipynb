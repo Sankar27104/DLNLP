{
  "nbformat": 4,
  "nbformat_minor": 0,
  "metadata": {
    "colab": {
      "private_outputs": true,
      "provenance": [],
      "authorship_tag": "ABX9TyNtGz0UQbCwwUl2ZMHKrHL3",
      "include_colab_link": true
    },
    "kernelspec": {
      "name": "python3",
      "display_name": "Python 3"
    },
    "language_info": {
      "name": "python"
    }
  },
  "cells": [
    {
      "cell_type": "markdown",
      "metadata": {
        "id": "view-in-github",
        "colab_type": "text"
      },
      "source": [
        "<a href=\"https://colab.research.google.com/github/Sankar27104/DLNLP/blob/main/DLNLP_8.ipynb\" target=\"_parent\"><img src=\"https://colab.research.google.com/assets/colab-badge.svg\" alt=\"Open In Colab\"/></a>"
      ]
    },
    {
      "cell_type": "markdown",
      "source": [
        "#Use the Keras deep learning library give a demo of Tokenizer API."
      ],
      "metadata": {
        "id": "6JG88pqGgDS1"
      }
    },
    {
      "cell_type": "markdown",
      "source": [
        "##Tokenizer\n",
        "### The tokenizer API in keras is used for text preparing in deep learning models. It converts text data into numericals format by tokenizing the words or characters and mapping them into integers."
      ],
      "metadata": {
        "id": "zlVOVmJDh8iG"
      }
    },
    {
      "cell_type": "code",
      "source": [
        "from tensorflow.keras.preprocessing.text import Tokenizer\n",
        "sentences = [\n",
        "    \"I like eggs and ham.\",\n",
        "    \"I love chocolate and bunnies.\",\n",
        "    \"I hate onions\"\n",
        "]\n",
        "tokenizer = Tokenizer(num_words=100)\n",
        "tokenizer.fit_on_texts(sentences)\n",
        "sequences = tokenizer.texts_to_sequences(sentences)\n",
        "one_hot_results = tokenizer.texts_to_matrix(sentences, mode='binary')\n",
        "word_index = tokenizer.word_index\n",
        "print(\"Word Index: \", word_index)\n",
        "print(\"In Sequences: \", sequences)\n",
        "print(\"One-hot Results: \", one_hot_results)"
      ],
      "metadata": {
        "id": "bYqadddLidxa"
      },
      "execution_count": null,
      "outputs": []
    }
  ]
}