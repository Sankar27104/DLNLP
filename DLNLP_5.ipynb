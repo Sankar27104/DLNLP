{
  "nbformat": 4,
  "nbformat_minor": 0,
  "metadata": {
    "colab": {
      "private_outputs": true,
      "provenance": [],
      "authorship_tag": "ABX9TyO2hv0L6GewfXE47VOW9ZId",
      "include_colab_link": true
    },
    "kernelspec": {
      "name": "python3",
      "display_name": "Python 3"
    },
    "language_info": {
      "name": "python"
    }
  },
  "cells": [
    {
      "cell_type": "markdown",
      "metadata": {
        "id": "view-in-github",
        "colab_type": "text"
      },
      "source": [
        "<a href=\"https://colab.research.google.com/github/Sankar27104/DLNLP/blob/main/DLNLP_5.ipynb\" target=\"_parent\"><img src=\"https://colab.research.google.com/assets/colab-badge.svg\" alt=\"Open In Colab\"/></a>"
      ]
    },
    {
      "cell_type": "markdown",
      "source": [
        "#Use the Keras deep learning library and split words with(text_to_word_sequence).\n"
      ],
      "metadata": {
        "id": "QvywyGYjbgON"
      }
    },
    {
      "cell_type": "markdown",
      "source": [
        "##KERAS\n",
        "###Keras is an open-source deep learning library written in Python. It provides a user-friendly and modular interface for designing, building, training, and deploying various types of artificial neural networks, particularly deep neural networks. Keras was developed with a focus on enabling rapid experimentation and prototyping of deep learning models.\n",
        "###The features of the keras are User-Friendly, Modularity, Compatibility, Flexibility, Extensibility, Visualization.\n",
        "###For installation of the keras in colab we have to use the command\n",
        "###!pip install -q keras"
      ],
      "metadata": {
        "id": "WqVctKp6bm-7"
      }
    },
    {
      "cell_type": "code",
      "source": [
        "!pip install tensorflow keras"
      ],
      "metadata": {
        "id": "1poDOaxJcq5I"
      },
      "execution_count": null,
      "outputs": []
    },
    {
      "cell_type": "code",
      "source": [
        "import tensorflow as tf\n",
        "from tensorflow.keras.preprocessing.text import text_to_word_sequence\n",
        "txt = \"Sometimes life can get confusing and hard\"\n",
        "result = text_to_word_sequence(txt)\n",
        "print(result)"
      ],
      "metadata": {
        "id": "tVDeNDggb5bX"
      },
      "execution_count": null,
      "outputs": []
    },
    {
      "cell_type": "code",
      "source": [
        "from tensorflow.keras.preprocessing.text import text_to_word_sequence\n",
        "txt = \"Sometimes life can get confusing and hard\"\n",
        "words = set(text_to_word_sequence(txt))\n",
        "vocab_size = len(words)\n",
        "print(vocab_size)"
      ],
      "metadata": {
        "id": "7bk1T4nLb-SV"
      },
      "execution_count": null,
      "outputs": []
    }
  ]
}