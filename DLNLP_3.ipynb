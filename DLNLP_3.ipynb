{
  "nbformat": 4,
  "nbformat_minor": 0,
  "metadata": {
    "colab": {
      "private_outputs": true,
      "provenance": [],
      "authorship_tag": "ABX9TyOgOWtM6DG5DmPxBK+PX+8/",
      "include_colab_link": true
    },
    "kernelspec": {
      "name": "python3",
      "display_name": "Python 3"
    },
    "language_info": {
      "name": "python"
    }
  },
  "cells": [
    {
      "cell_type": "markdown",
      "metadata": {
        "id": "view-in-github",
        "colab_type": "text"
      },
      "source": [
        "<a href=\"https://colab.research.google.com/github/Sankar27104/DLNLP/blob/main/DLNLP_3.ipynb\" target=\"_parent\"><img src=\"https://colab.research.google.com/assets/colab-badge.svg\" alt=\"Open In Colab\"/></a>"
      ]
    },
    {
      "cell_type": "markdown",
      "source": [
        "#Implementation to Convert the text to word frequency vectors with ScikitLearn (TfidfVectorizer).\n"
      ],
      "metadata": {
        "id": "V35ytW6PZfDQ"
      }
    },
    {
      "cell_type": "code",
      "source": [
        "from sklearn.feature_extraction.text import TfidfVectorizer\n",
        "corpus = [\"Sometimes life can get confusing and hard\",\n",
        " \"In such times it can be useful to turn to the wisdom of poetry.\"]\n",
        "vectorizer = TfidfVectorizer()\n",
        "vectorizer.fit(corpus)\n",
        "mykeys = list(vectorizer.vocabulary_.keys())\n",
        "mykeys.sort()\n",
        "sorted_dict = {i : vectorizer.vocabulary_[i] for i in mykeys}\n",
        "print(\"Vocabulary:\" , sorted_dict)\n",
        "print(vectorizer.idf_)\n",
        "vector = vectorizer.transform([corpus[0]])\n",
        "print()\n",
        "print(vector.shape)\n",
        "print()\n",
        "print(\"Encoded corpus is:\")\n",
        "print(vector.toarray())"
      ],
      "metadata": {
        "id": "ruU6a0G6ZuOF"
      },
      "execution_count": null,
      "outputs": []
    }
  ]
}