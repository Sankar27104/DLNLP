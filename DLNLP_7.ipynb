{
  "nbformat": 4,
  "nbformat_minor": 0,
  "metadata": {
    "colab": {
      "private_outputs": true,
      "provenance": [],
      "authorship_tag": "ABX9TyNWq6AzdO660sUzY5b7PvQy",
      "include_colab_link": true
    },
    "kernelspec": {
      "name": "python3",
      "display_name": "Python 3"
    },
    "language_info": {
      "name": "python"
    }
  },
  "cells": [
    {
      "cell_type": "markdown",
      "metadata": {
        "id": "view-in-github",
        "colab_type": "text"
      },
      "source": [
        "<a href=\"https://colab.research.google.com/github/Sankar27104/DLNLP/blob/main/DLNLP_7.ipynb\" target=\"_parent\"><img src=\"https://colab.research.google.com/assets/colab-badge.svg\" alt=\"Open In Colab\"/></a>"
      ]
    },
    {
      "cell_type": "markdown",
      "source": [
        "#Use the Keras deep learning library and write a code for Hash Encoding with (hashing_trick)."
      ],
      "metadata": {
        "id": "5pkRSpTaei-E"
      }
    },
    {
      "cell_type": "markdown",
      "source": [
        "##HASH ENCODING: -\n",
        "###Hashing Encoding, often implemented using the \"hashing_trick\" function in Keras, is a technique used to convert categorical data into numerical representations. This is particularly useful when dealing with a large number of categories and you want to reduce the dimensionality of the representation. Let's go through an example using movie genres.\n",
        "###Imagine you have a dataset of movies, and each movie is associated with one or more genres. The genres include \"Action\", \"Comedy\", \"Drama\", \"Horror\", \"Romance\", and so on. You want to represent these genres numerically using Hashing Encoding."
      ],
      "metadata": {
        "id": "Kv6yr07_eo6V"
      }
    },
    {
      "cell_type": "markdown",
      "source": [
        "##BEFORE HASHING"
      ],
      "metadata": {
        "id": "HdhwbTpdfBT6"
      }
    },
    {
      "cell_type": "code",
      "source": [
        "from tensorflow.keras.preprocessing.text import text_to_word_sequence\n",
        "text = \"Sometimes life can get confusing and hard, In such times it can be useful to turn to the wisdom of poetry.\"\n",
        "result = text_to_word_sequence(text)\n",
        "print(result)\n",
        "words = set(text_to_word_sequence(text))\n",
        "vocab_size = len(words)\n",
        "print(vocab_size)"
      ],
      "metadata": {
        "id": "8hgUf33Oe98K"
      },
      "execution_count": null,
      "outputs": []
    },
    {
      "cell_type": "markdown",
      "source": [
        "##BY USING ONE_HOT"
      ],
      "metadata": {
        "id": "oGidrTs_fFUU"
      }
    },
    {
      "cell_type": "code",
      "source": [
        "from tensorflow.keras.preprocessing.text import one_hot\n",
        "from tensorflow.keras.preprocessing.text import text_to_word_sequence\n",
        "text = \"Sometimes life can get confusing and hard, In such times it can be useful to turn to the wisdom of poetry.\"\n",
        "words = set(text_to_word_sequence(text))\n",
        "vocab_size = len(words)\n",
        "print(vocab_size)\n",
        "result = one_hot(text, round(vocab_size*1.3))\n",
        "print(result)"
      ],
      "metadata": {
        "id": "NSMA44dPfL7o"
      },
      "execution_count": null,
      "outputs": []
    },
    {
      "cell_type": "markdown",
      "source": [
        "##AFTER HASHING"
      ],
      "metadata": {
        "id": "KFpgtZh6fjRj"
      }
    },
    {
      "cell_type": "code",
      "source": [
        "from tensorflow.keras.preprocessing.text import hashing_trick\n",
        "from tensorflow.keras.preprocessing.text import text_to_word_sequence\n",
        "text = \"Sometimes life can get confusing and hard, In such times it can be useful to turn to the wisdom of poetry.\"\n",
        "words = set(text_to_word_sequence(text))\n",
        "vocab_size = len(words)\n",
        "print(vocab_size)\n",
        "result = hashing_trick(text, round(vocab_size*1.3), hash_function='md5')\n",
        "print(result)\n"
      ],
      "metadata": {
        "id": "AXfDRWqcfkhT"
      },
      "execution_count": null,
      "outputs": []
    }
  ]
}